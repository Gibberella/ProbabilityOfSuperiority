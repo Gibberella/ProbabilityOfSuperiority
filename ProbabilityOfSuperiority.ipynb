{
 "cells": [
  {
   "cell_type": "code",
   "execution_count": null,
   "id": "ea677ff9",
   "metadata": {},
   "outputs": [],
   "source": [
    "import glob\n",
    "import pandas as pd\n",
    "import os\n",
    " \n",
    "path = r\"path-name\" # Change to the path for the folder where all of the individual Monte Carlo fits for the 21% case can be found\n",
    "path2 = r\"path-name\" # Change to the path for the folder where all of the individual Monte Carlo fits for the 2% case can be found\n",
    "\n",
    "files = glob.glob(os.path.join(path, \"*.csv\"))\n",
    "files_2 = glob.glob(os.path.join(path2, \"*.csv\"))\n",
    "\n",
    "all_df = []\n",
    "all_df2 = []\n",
    "for f in files:\n",
    "    df = pd.read_csv(f, sep=',')\n",
    "    df['file_name'] = f.split('/')[-1]\n",
    "    all_df.append(df)\n",
    "    \n",
    "for f in files_2:\n",
    "    df = pd.read_csv(f, sep=',')\n",
    "    df['file_name'] = f.split('/')[-1]\n",
    "    all_df2.append(df)\n",
    "    \n",
    "merged_df = pd.concat(all_df, ignore_index=True)\n",
    "merged_df2 = pd.concat(all_df2, ignore_index=True)"
   ]
  },
  {
   "cell_type": "code",
   "execution_count": null,
   "id": "63421978",
   "metadata": {},
   "outputs": [],
   "source": [
    "merged_df = pd.concat(all_df, ignore_index=True)\n",
    "merged_df = merged_df[merged_df['type'] == 'Net flux']\n",
    "merged_df2 = pd.concat(all_df2, ignore_index=True)\n",
    "merged_df2 = merged_df2[merged_df2['type'] == 'Net flux']"
   ]
  },
  {
   "cell_type": "code",
   "execution_count": null,
   "id": "f546535b",
   "metadata": {},
   "outputs": [],
   "source": [
    "parameters = merged_df['id'].unique()"
   ]
  },
  {
   "cell_type": "code",
   "execution_count": null,
   "id": "dcf35075",
   "metadata": {},
   "outputs": [],
   "source": [
    "parameters_values_21 = []\n",
    "parameters_values_2 = []\n",
    "\n",
    "for i in range(len(parameters)):\n",
    "    temp_21 = []\n",
    "    temp_2 = []\n",
    "    temp_21 = merged_df[merged_df['id'] == parameters[i]]\n",
    "    temp_2 = merged_df2[merged_df2['id'] == parameters[i]]\n",
    "    parameters_values_21.append(temp_21)\n",
    "    parameters_values_2.append(temp_2)\n"
   ]
  },
  {
   "cell_type": "code",
   "execution_count": null,
   "id": "665b9b79",
   "metadata": {},
   "outputs": [],
   "source": [
    "boolean_list = []\n",
    "\n",
    "for n in range(len(parameters_values_21)):\n",
    "    print('Working on: ', n)\n",
    "    temp_list = []\n",
    "    for i in range(10000):\n",
    "        sample = parameters_values_21[n].sample(1)['val'].to_numpy()[0]\n",
    "        sample2 = parameters_values_2[n].sample(1)['val'].to_numpy()[0]\n",
    "        temp_list.append(sample > sample2)\n",
    "    boolean_list.append(temp_list)"
   ]
  },
  {
   "cell_type": "code",
   "execution_count": null,
   "id": "22808bf7",
   "metadata": {},
   "outputs": [],
   "source": [
    "probabilities = []\n",
    "\n",
    "for n in range(len(boolean_list)):\n",
    "\n",
    "    probability = sum(boolean_list[n])/10000*100\n",
    "    probabilities.append(probability)"
   ]
  },
  {
   "cell_type": "code",
   "execution_count": null,
   "id": "76dd6562",
   "metadata": {},
   "outputs": [],
   "source": [
    "results_dict = {\"IDs\":parameters,\n",
    "               \"Probabilities\":probabilities}\n",
    "results = pd.DataFrame(results_dict)\n",
    "results.to_csv(\"ProbabilityOfSuperiority.csv\")"
   ]
  }
 ],
 "metadata": {
  "kernelspec": {
   "display_name": "Python 3 (ipykernel)",
   "language": "python",
   "name": "python3"
  },
  "language_info": {
   "codemirror_mode": {
    "name": "ipython",
    "version": 3
   },
   "file_extension": ".py",
   "mimetype": "text/x-python",
   "name": "python",
   "nbconvert_exporter": "python",
   "pygments_lexer": "ipython3",
   "version": "3.11.9"
  }
 },
 "nbformat": 4,
 "nbformat_minor": 5
}
